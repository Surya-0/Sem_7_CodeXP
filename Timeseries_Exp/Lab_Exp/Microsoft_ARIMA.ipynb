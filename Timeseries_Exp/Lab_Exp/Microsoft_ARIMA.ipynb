{
 "cells": [
  {
   "cell_type": "code",
   "execution_count": 1,
   "id": "initial_id",
   "metadata": {
    "ExecuteTime": {
     "end_time": "2024-10-11T06:43:34.074028Z",
     "start_time": "2024-10-11T06:43:32.814125Z"
    }
   },
   "outputs": [],
   "source": [
    "import pandas as pd\n",
    "import numpy as np\n",
    "import matplotlib.pyplot as plt\n",
    "from statsmodels.tsa.stattools import adfuller\n",
    "from statsmodels.graphics.tsaplots import plot_acf, plot_pacf\n",
    "from statsmodels.tsa.arima.model import ARIMA\n",
    "from itertools import product\n"
   ]
  },
  {
   "cell_type": "code",
   "execution_count": 2,
   "id": "ef99e69e6c2deafe",
   "metadata": {
    "ExecuteTime": {
     "end_time": "2024-10-11T06:43:34.093095Z",
     "start_time": "2024-10-11T06:43:34.074618Z"
    },
    "collapsed": false
   },
   "outputs": [
    {
     "data": {
      "text/html": [
       "<div>\n",
       "<style scoped>\n",
       "    .dataframe tbody tr th:only-of-type {\n",
       "        vertical-align: middle;\n",
       "    }\n",
       "\n",
       "    .dataframe tbody tr th {\n",
       "        vertical-align: top;\n",
       "    }\n",
       "\n",
       "    .dataframe thead th {\n",
       "        text-align: right;\n",
       "    }\n",
       "</style>\n",
       "<table border=\"1\" class=\"dataframe\">\n",
       "  <thead>\n",
       "    <tr style=\"text-align: right;\">\n",
       "      <th></th>\n",
       "      <th>Date</th>\n",
       "      <th>Open</th>\n",
       "      <th>High</th>\n",
       "      <th>Low</th>\n",
       "      <th>Close</th>\n",
       "      <th>Volume</th>\n",
       "    </tr>\n",
       "  </thead>\n",
       "  <tbody>\n",
       "    <tr>\n",
       "      <th>0</th>\n",
       "      <td>4/1/2015 16:00:00</td>\n",
       "      <td>40.60</td>\n",
       "      <td>40.76</td>\n",
       "      <td>40.31</td>\n",
       "      <td>40.72</td>\n",
       "      <td>36865322</td>\n",
       "    </tr>\n",
       "    <tr>\n",
       "      <th>1</th>\n",
       "      <td>4/2/2015 16:00:00</td>\n",
       "      <td>40.66</td>\n",
       "      <td>40.74</td>\n",
       "      <td>40.12</td>\n",
       "      <td>40.29</td>\n",
       "      <td>37487476</td>\n",
       "    </tr>\n",
       "    <tr>\n",
       "      <th>2</th>\n",
       "      <td>4/6/2015 16:00:00</td>\n",
       "      <td>40.34</td>\n",
       "      <td>41.78</td>\n",
       "      <td>40.18</td>\n",
       "      <td>41.55</td>\n",
       "      <td>39223692</td>\n",
       "    </tr>\n",
       "    <tr>\n",
       "      <th>3</th>\n",
       "      <td>4/7/2015 16:00:00</td>\n",
       "      <td>41.61</td>\n",
       "      <td>41.91</td>\n",
       "      <td>41.31</td>\n",
       "      <td>41.53</td>\n",
       "      <td>28809375</td>\n",
       "    </tr>\n",
       "    <tr>\n",
       "      <th>4</th>\n",
       "      <td>4/8/2015 16:00:00</td>\n",
       "      <td>41.48</td>\n",
       "      <td>41.69</td>\n",
       "      <td>41.04</td>\n",
       "      <td>41.42</td>\n",
       "      <td>24753438</td>\n",
       "    </tr>\n",
       "    <tr>\n",
       "      <th>...</th>\n",
       "      <td>...</td>\n",
       "      <td>...</td>\n",
       "      <td>...</td>\n",
       "      <td>...</td>\n",
       "      <td>...</td>\n",
       "      <td>...</td>\n",
       "    </tr>\n",
       "    <tr>\n",
       "      <th>1506</th>\n",
       "      <td>3/25/2021 16:00:00</td>\n",
       "      <td>235.30</td>\n",
       "      <td>236.94</td>\n",
       "      <td>231.57</td>\n",
       "      <td>232.34</td>\n",
       "      <td>34061853</td>\n",
       "    </tr>\n",
       "    <tr>\n",
       "      <th>1507</th>\n",
       "      <td>3/26/2021 16:00:00</td>\n",
       "      <td>231.55</td>\n",
       "      <td>236.71</td>\n",
       "      <td>231.55</td>\n",
       "      <td>236.48</td>\n",
       "      <td>25479853</td>\n",
       "    </tr>\n",
       "    <tr>\n",
       "      <th>1508</th>\n",
       "      <td>3/29/2021 16:00:00</td>\n",
       "      <td>236.59</td>\n",
       "      <td>236.80</td>\n",
       "      <td>231.88</td>\n",
       "      <td>235.24</td>\n",
       "      <td>25227455</td>\n",
       "    </tr>\n",
       "    <tr>\n",
       "      <th>1509</th>\n",
       "      <td>3/30/2021 16:00:00</td>\n",
       "      <td>233.53</td>\n",
       "      <td>233.85</td>\n",
       "      <td>231.10</td>\n",
       "      <td>231.85</td>\n",
       "      <td>24792012</td>\n",
       "    </tr>\n",
       "    <tr>\n",
       "      <th>1510</th>\n",
       "      <td>3/31/2021 16:00:00</td>\n",
       "      <td>232.91</td>\n",
       "      <td>239.10</td>\n",
       "      <td>232.39</td>\n",
       "      <td>235.77</td>\n",
       "      <td>43623471</td>\n",
       "    </tr>\n",
       "  </tbody>\n",
       "</table>\n",
       "<p>1511 rows × 6 columns</p>\n",
       "</div>"
      ],
      "text/plain": [
       "                    Date    Open    High     Low   Close    Volume\n",
       "0      4/1/2015 16:00:00   40.60   40.76   40.31   40.72  36865322\n",
       "1      4/2/2015 16:00:00   40.66   40.74   40.12   40.29  37487476\n",
       "2      4/6/2015 16:00:00   40.34   41.78   40.18   41.55  39223692\n",
       "3      4/7/2015 16:00:00   41.61   41.91   41.31   41.53  28809375\n",
       "4      4/8/2015 16:00:00   41.48   41.69   41.04   41.42  24753438\n",
       "...                  ...     ...     ...     ...     ...       ...\n",
       "1506  3/25/2021 16:00:00  235.30  236.94  231.57  232.34  34061853\n",
       "1507  3/26/2021 16:00:00  231.55  236.71  231.55  236.48  25479853\n",
       "1508  3/29/2021 16:00:00  236.59  236.80  231.88  235.24  25227455\n",
       "1509  3/30/2021 16:00:00  233.53  233.85  231.10  231.85  24792012\n",
       "1510  3/31/2021 16:00:00  232.91  239.10  232.39  235.77  43623471\n",
       "\n",
       "[1511 rows x 6 columns]"
      ]
     },
     "execution_count": 2,
     "metadata": {},
     "output_type": "execute_result"
    }
   ],
   "source": [
    "df = pd.read_csv('Microsoft_Stock.csv')\n",
    "df"
   ]
  },
  {
   "cell_type": "code",
   "execution_count": 3,
   "id": "7c8888b04b077b0e",
   "metadata": {
    "ExecuteTime": {
     "end_time": "2024-10-11T06:43:34.101995Z",
     "start_time": "2024-10-11T06:43:34.096107Z"
    },
    "collapsed": false
   },
   "outputs": [],
   "source": [
    "df['Date'] = pd.to_datetime(df['Date'])\n",
    "df.set_index('Date', inplace=True)\n"
   ]
  },
  {
   "cell_type": "code",
   "execution_count": 4,
   "id": "1294239fbe12039d",
   "metadata": {
    "ExecuteTime": {
     "end_time": "2024-10-11T06:43:34.128525Z",
     "start_time": "2024-10-11T06:43:34.102105Z"
    },
    "collapsed": false
   },
   "outputs": [
    {
     "data": {
      "text/html": [
       "<div>\n",
       "<style scoped>\n",
       "    .dataframe tbody tr th:only-of-type {\n",
       "        vertical-align: middle;\n",
       "    }\n",
       "\n",
       "    .dataframe tbody tr th {\n",
       "        vertical-align: top;\n",
       "    }\n",
       "\n",
       "    .dataframe thead th {\n",
       "        text-align: right;\n",
       "    }\n",
       "</style>\n",
       "<table border=\"1\" class=\"dataframe\">\n",
       "  <thead>\n",
       "    <tr style=\"text-align: right;\">\n",
       "      <th></th>\n",
       "      <th>Open</th>\n",
       "      <th>High</th>\n",
       "      <th>Low</th>\n",
       "      <th>Close</th>\n",
       "      <th>Volume</th>\n",
       "    </tr>\n",
       "    <tr>\n",
       "      <th>Date</th>\n",
       "      <th></th>\n",
       "      <th></th>\n",
       "      <th></th>\n",
       "      <th></th>\n",
       "      <th></th>\n",
       "    </tr>\n",
       "  </thead>\n",
       "  <tbody>\n",
       "    <tr>\n",
       "      <th>2015-04-01 16:00:00</th>\n",
       "      <td>40.60</td>\n",
       "      <td>40.76</td>\n",
       "      <td>40.31</td>\n",
       "      <td>40.72</td>\n",
       "      <td>36865322</td>\n",
       "    </tr>\n",
       "    <tr>\n",
       "      <th>2015-04-02 16:00:00</th>\n",
       "      <td>40.66</td>\n",
       "      <td>40.74</td>\n",
       "      <td>40.12</td>\n",
       "      <td>40.29</td>\n",
       "      <td>37487476</td>\n",
       "    </tr>\n",
       "    <tr>\n",
       "      <th>2015-04-06 16:00:00</th>\n",
       "      <td>40.34</td>\n",
       "      <td>41.78</td>\n",
       "      <td>40.18</td>\n",
       "      <td>41.55</td>\n",
       "      <td>39223692</td>\n",
       "    </tr>\n",
       "    <tr>\n",
       "      <th>2015-04-07 16:00:00</th>\n",
       "      <td>41.61</td>\n",
       "      <td>41.91</td>\n",
       "      <td>41.31</td>\n",
       "      <td>41.53</td>\n",
       "      <td>28809375</td>\n",
       "    </tr>\n",
       "    <tr>\n",
       "      <th>2015-04-08 16:00:00</th>\n",
       "      <td>41.48</td>\n",
       "      <td>41.69</td>\n",
       "      <td>41.04</td>\n",
       "      <td>41.42</td>\n",
       "      <td>24753438</td>\n",
       "    </tr>\n",
       "    <tr>\n",
       "      <th>...</th>\n",
       "      <td>...</td>\n",
       "      <td>...</td>\n",
       "      <td>...</td>\n",
       "      <td>...</td>\n",
       "      <td>...</td>\n",
       "    </tr>\n",
       "    <tr>\n",
       "      <th>2021-03-25 16:00:00</th>\n",
       "      <td>235.30</td>\n",
       "      <td>236.94</td>\n",
       "      <td>231.57</td>\n",
       "      <td>232.34</td>\n",
       "      <td>34061853</td>\n",
       "    </tr>\n",
       "    <tr>\n",
       "      <th>2021-03-26 16:00:00</th>\n",
       "      <td>231.55</td>\n",
       "      <td>236.71</td>\n",
       "      <td>231.55</td>\n",
       "      <td>236.48</td>\n",
       "      <td>25479853</td>\n",
       "    </tr>\n",
       "    <tr>\n",
       "      <th>2021-03-29 16:00:00</th>\n",
       "      <td>236.59</td>\n",
       "      <td>236.80</td>\n",
       "      <td>231.88</td>\n",
       "      <td>235.24</td>\n",
       "      <td>25227455</td>\n",
       "    </tr>\n",
       "    <tr>\n",
       "      <th>2021-03-30 16:00:00</th>\n",
       "      <td>233.53</td>\n",
       "      <td>233.85</td>\n",
       "      <td>231.10</td>\n",
       "      <td>231.85</td>\n",
       "      <td>24792012</td>\n",
       "    </tr>\n",
       "    <tr>\n",
       "      <th>2021-03-31 16:00:00</th>\n",
       "      <td>232.91</td>\n",
       "      <td>239.10</td>\n",
       "      <td>232.39</td>\n",
       "      <td>235.77</td>\n",
       "      <td>43623471</td>\n",
       "    </tr>\n",
       "  </tbody>\n",
       "</table>\n",
       "<p>1511 rows × 5 columns</p>\n",
       "</div>"
      ],
      "text/plain": [
       "                       Open    High     Low   Close    Volume\n",
       "Date                                                         \n",
       "2015-04-01 16:00:00   40.60   40.76   40.31   40.72  36865322\n",
       "2015-04-02 16:00:00   40.66   40.74   40.12   40.29  37487476\n",
       "2015-04-06 16:00:00   40.34   41.78   40.18   41.55  39223692\n",
       "2015-04-07 16:00:00   41.61   41.91   41.31   41.53  28809375\n",
       "2015-04-08 16:00:00   41.48   41.69   41.04   41.42  24753438\n",
       "...                     ...     ...     ...     ...       ...\n",
       "2021-03-25 16:00:00  235.30  236.94  231.57  232.34  34061853\n",
       "2021-03-26 16:00:00  231.55  236.71  231.55  236.48  25479853\n",
       "2021-03-29 16:00:00  236.59  236.80  231.88  235.24  25227455\n",
       "2021-03-30 16:00:00  233.53  233.85  231.10  231.85  24792012\n",
       "2021-03-31 16:00:00  232.91  239.10  232.39  235.77  43623471\n",
       "\n",
       "[1511 rows x 5 columns]"
      ]
     },
     "execution_count": 4,
     "metadata": {},
     "output_type": "execute_result"
    }
   ],
   "source": [
    "df"
   ]
  },
  {
   "cell_type": "markdown",
   "id": "23c9b51db6fa55f0",
   "metadata": {
    "collapsed": false
   },
   "source": [
    "Let us use the close price for our analysi"
   ]
  },
  {
   "cell_type": "code",
   "execution_count": 5,
   "id": "439732471eec3188",
   "metadata": {
    "ExecuteTime": {
     "end_time": "2024-10-11T06:43:34.309346Z",
     "start_time": "2024-10-11T06:43:34.106172Z"
    },
    "collapsed": false
   },
   "outputs": [
    {
     "data": {
      "image/png": "[encoded data removed]",
      "text/plain": [
       "<Figure size 1000x600 with 1 Axes>"
      ]
     },
     "metadata": {},
     "output_type": "display_data"
    }
   ],
   "source": [
    "plt.figure(figsize=(10, 6))\n",
    "plt.plot(df['Close'])\n",
    "plt.title('Microsoft Stock Close Price')\n",
    "plt.xlabel('Date')\n",
    "plt.ylabel('Close Price')\n",
    "plt.show()"
   ]
  },
  {
   "cell_type": "code",
   "execution_count": 6,
   "id": "e6eadae22fd372ae",
   "metadata": {
    "ExecuteTime": {
     "end_time": "2024-10-11T06:43:34.323124Z",
     "start_time": "2024-10-11T06:43:34.311038Z"
    },
    "collapsed": false
   },
   "outputs": [],
   "source": [
    "ts = df['Close']"
   ]
  },
  {
   "cell_type": "code",
   "execution_count": 7,
   "id": "bddbdeaf944cc6a",
   "metadata": {
    "ExecuteTime": {
     "end_time": "2024-10-11T06:43:34.323766Z",
     "start_time": "2024-10-11T06:43:34.315870Z"
    },
    "collapsed": false
   },
   "outputs": [
    {
     "data": {
      "text/plain": [
       "Date\n",
       "2015-04-01 16:00:00     40.72\n",
       "2015-04-02 16:00:00     40.29\n",
       "2015-04-06 16:00:00     41.55\n",
       "2015-04-07 16:00:00     41.53\n",
       "2015-04-08 16:00:00     41.42\n",
       "                        ...  \n",
       "2021-03-25 16:00:00    232.34\n",
       "2021-03-26 16:00:00    236.48\n",
       "2021-03-29 16:00:00    235.24\n",
       "2021-03-30 16:00:00    231.85\n",
       "2021-03-31 16:00:00    235.77\n",
       "Name: Close, Length: 1511, dtype: float64"
      ]
     },
     "execution_count": 7,
     "metadata": {},
     "output_type": "execute_result"
    }
   ],
   "source": [
    "ts"
   ]
  },
  {
   "cell_type": "markdown",
   "id": "76ee0cc7fb5cc5aa",
   "metadata": {
    "collapsed": false
   },
   "source": [
    "We need to fill 3 parameters - p,d,q\n",
    "p - autoregression parameter\n",
    "d - differencing parameter\n",
    "q - moving average parameter"
   ]
  },
  {
   "cell_type": "markdown",
   "id": "623fbce0ada6c42d",
   "metadata": {
    "collapsed": false
   },
   "source": [
    "Augmented Dickey - Fuller Test"
   ]
  },
  {
   "cell_type": "code",
   "execution_count": 8,
   "id": "b8ad9123250e1369",
   "metadata": {
    "ExecuteTime": {
     "end_time": "2024-10-11T06:43:34.335434Z",
     "start_time": "2024-10-11T06:43:34.322665Z"
    },
    "collapsed": false
   },
   "outputs": [],
   "source": [
    "def test_stationarity(timeseries):\n",
    "    result = adfuller(timeseries, autolag='AIC')\n",
    "    print('ADF Statistic:', result[0])\n",
    "    print('p-value:', result[1])\n",
    "    print('Critical Values:', result[4])"
   ]
  },
  {
   "cell_type": "code",
   "execution_count": 9,
   "id": "41c4e26b8713603e",
   "metadata": {
    "ExecuteTime": {
     "end_time": "2024-10-11T06:43:34.636037Z",
     "start_time": "2024-10-11T06:43:34.328128Z"
    },
    "collapsed": false
   },
   "outputs": [
    {
     "name": "stdout",
     "output_type": "stream",
     "text": [
      "Testing stationarity of the original series:\n",
      "ADF Statistic: 1.7371362899271037\n",
      "p-value: 0.9982158366942122\n",
      "Critical Values: {'1%': -3.4347582315402434, '5%': -2.863486949792871, '10%': -2.567806534528638}\n"
     ]
    }
   ],
   "source": [
    "print(\"Testing stationarity of the original series:\")\n",
    "test_stationarity(ts)"
   ]
  },
  {
   "cell_type": "markdown",
   "id": "92c55718f9e74b5f",
   "metadata": {
    "collapsed": false
   },
   "source": [
    "if p-value is less than 0.05 we would've considered it stationary, but since it is not the time series is not stationary"
   ]
  },
  {
   "cell_type": "code",
   "execution_count": 10,
   "id": "fad625ce6225a258",
   "metadata": {
    "ExecuteTime": {
     "end_time": "2024-10-11T06:43:34.816931Z",
     "start_time": "2024-10-11T06:43:34.631802Z"
    },
    "collapsed": false
   },
   "outputs": [
    {
     "name": "stdout",
     "output_type": "stream",
     "text": [
      "\n",
      "Testing stationarity of the differenced series:\n",
      "ADF Statistic: -10.038331065146357\n",
      "p-value: 1.5195939917535664e-17\n",
      "Critical Values: {'1%': -3.43476120520139, '5%': -2.863488262178673, '10%': -2.567807233388883}\n"
     ]
    }
   ],
   "source": [
    "ts_diff = ts.diff().dropna()\n",
    "print(\"\\nTesting stationarity of the differenced series:\")\n",
    "test_stationarity(ts_diff)"
   ]
  },
  {
   "cell_type": "markdown",
   "id": "8a0de4ae225fc9e",
   "metadata": {
    "collapsed": false
   },
   "source": [
    "The time series has now become stationary"
   ]
  },
  {
   "cell_type": "markdown",
   "id": "828262944e3388d",
   "metadata": {
    "collapsed": false
   },
   "source": [
    "ACF and PACF for the p and q values"
   ]
  },
  {
   "cell_type": "code",
   "execution_count": 11,
   "id": "de55c59009aea643",
   "metadata": {
    "ExecuteTime": {
     "end_time": "2024-10-11T06:43:35.000670Z",
     "start_time": "2024-10-11T06:43:34.821218Z"
    },
    "collapsed": false
   },
   "outputs": [
    {
     "data": {
      "image/png": "[encoded data removed]",
      "text/plain": [
       "<Figure size 1200x800 with 2 Axes>"
      ]
     },
     "metadata": {},
     "output_type": "display_data"
    }
   ],
   "source": [
    "fig, (ax1, ax2) = plt.subplots(2, 1, figsize=(12,8))\n",
    "plot_acf(ts_diff, ax=ax1, lags=20)\n",
    "plot_pacf(ts_diff, ax=ax2, lags=20)\n",
    "plt.show()\n"
   ]
  },
  {
   "cell_type": "markdown",
   "id": "688e10f54a12e348",
   "metadata": {
    "collapsed": false
   },
   "source": [
    "p (AR term): Look at the PACF plot. The lag at which the PACF plot cuts off (drops to zero) is the value of p.\n",
    "q (MA term): Look at the ACF plot. The lag at which the ACF plot cuts off (drops to zero) is the value of q.\n",
    "It seems as though the values would be p = 1, q = 1 and d = 1"
   ]
  },
  {
   "cell_type": "markdown",
   "id": "f909785327a9a830",
   "metadata": {
    "collapsed": false
   },
   "source": [
    "Do a grid search to evaluate the ARIMA model"
   ]
  },
  {
   "cell_type": "code",
   "execution_count": 12,
   "id": "e3dfcc2126800c1a",
   "metadata": {
    "ExecuteTime": {
     "end_time": "2024-10-11T06:43:35.129626Z",
     "start_time": "2024-10-11T06:43:35.005436Z"
    },
    "collapsed": false
   },
   "outputs": [],
   "source": [
    "def evaluate_arima_model(X, arima_order):\n",
    "    # Prepare training dataset\n",
    "    train_size = int(len(X) * 0.66)\n",
    "    train, test = X[0:train_size], X[train_size:]\n",
    "    history = [x for x in train]\n",
    "    # Make predictions\n",
    "    predictions = []\n",
    "    for t in range(len(test)):\n",
    "        model = ARIMA(history, order=arima_order)\n",
    "        model_fit = model.fit()\n",
    "        yhat = model_fit.forecast()[0]\n",
    "        predictions.append(yhat)\n",
    "        history.append(test[t])\n",
    "    # Calculate out of sample error\n",
    "    mse = ((np.array(test) - np.array(predictions)) ** 2).mean()\n",
    "    return mse\n"
   ]
  },
  {
   "cell_type": "code",
   "execution_count": 13,
   "id": "4cafba146126e764",
   "metadata": {
    "ExecuteTime": {
     "end_time": "2024-10-11T06:43:35.130030Z",
     "start_time": "2024-10-11T06:43:35.030738Z"
    },
    "collapsed": false
   },
   "outputs": [],
   "source": [
    "def evaluate_models(dataset, p_values, d_values, q_values):\n",
    "    dataset = dataset.astype('float32')\n",
    "    best_score, best_cfg = float(\"inf\"), None\n",
    "    for p, d, q in product(p_values, d_values, q_values):\n",
    "        order = (p,d,q)\n",
    "        try:\n",
    "            mse = evaluate_arima_model(dataset, order)\n",
    "            if mse < best_score:\n",
    "                best_score, best_cfg = mse, order\n",
    "            print('ARIMA%s MSE=%.3f' % (order,mse))\n",
    "        except:\n",
    "            continue\n",
    "    print('Best ARIMA%s MSE=%.3f' % (best_cfg, best_score))\n",
    "    return best_cfg"
   ]
  },
  {
   "cell_type": "code",
   "execution_count": 14,
   "id": "15ecb65c72eb2baa",
   "metadata": {
    "ExecuteTime": {
     "end_time": "2024-10-11T06:43:35.130191Z",
     "start_time": "2024-10-11T06:43:35.064271Z"
    },
    "collapsed": false
   },
   "outputs": [],
   "source": [
    "p_values = [1, 2]\n",
    "d_values = [1]\n",
    "q_values = [1, 2]"
   ]
  },
  {
   "cell_type": "code",
   "execution_count": null,
   "id": "ace0354a09066ca9",
   "metadata": {
    "ExecuteTime": {
     "start_time": "2024-10-11T06:43:35.078977Z"
    },
    "collapsed": false,
    "is_executing": true
   },
   "outputs": [
    {
     "name": "stdout",
     "output_type": "stream",
     "text": [
      "ARIMA(1, 1, 1) MSE=12.923\n"
     ]
    }
   ],
   "source": [
    "best_order = evaluate_models(ts.values, p_values, d_values, q_values)"
   ]
  },
  {
   "cell_type": "code",
   "execution_count": 19,
   "id": "57585a3c459e3990",
   "metadata": {
    "collapsed": false,
    "ExecuteTime": {
     "end_time": "2024-10-11T06:47:37.635503Z",
     "start_time": "2024-10-11T06:47:37.521479Z"
    }
   },
   "outputs": [
    {
     "name": "stdout",
     "output_type": "stream",
     "text": [
      "                               SARIMAX Results                                \n",
      "==============================================================================\n",
      "Dep. Variable:                  Close   No. Observations:                 1511\n",
      "Model:                 ARIMA(2, 1, 1)   Log Likelihood               -3380.778\n",
      "Date:                Fri, 11 Oct 2024   AIC                           6769.557\n",
      "Time:                        12:17:37   BIC                           6790.836\n",
      "Sample:                             0   HQIC                          6777.482\n",
      "                               - 1511                                         \n",
      "Covariance Type:                  opg                                         \n",
      "==============================================================================\n",
      "                 coef    std err          z      P>|z|      [0.025      0.975]\n",
      "------------------------------------------------------------------------------\n",
      "ar.L1          0.1600      0.477      0.335      0.737      -0.775       1.094\n",
      "ar.L2          0.1349      0.125      1.079      0.280      -0.110       0.380\n",
      "ma.L1         -0.4259      0.477     -0.892      0.372      -1.362       0.510\n",
      "sigma2         5.1550      0.075     68.566      0.000       5.008       5.302\n",
      "===================================================================================\n",
      "Ljung-Box (L1) (Q):                   0.12   Jarque-Bera (JB):              9008.37\n",
      "Prob(Q):                              0.73   Prob(JB):                         0.00\n",
      "Heteroskedasticity (H):              20.78   Skew:                            -0.48\n",
      "Prob(H) (two-sided):                  0.00   Kurtosis:                        14.93\n",
      "===================================================================================\n",
      "\n",
      "Warnings:\n",
      "[1] Covariance matrix calculated using the outer product of gradients (complex-step).\n"
     ]
    },
    {
     "name": "stderr",
     "output_type": "stream",
     "text": [
      "/Users/surya/anaconda3/envs/Tf-metal/lib/python3.10/site-packages/statsmodels/tsa/base/tsa_model.py:473: ValueWarning: A date index has been provided, but it has no associated frequency information and so will be ignored when e.g. forecasting.\n",
      "  self._init_dates(dates, freq)\n",
      "/Users/surya/anaconda3/envs/Tf-metal/lib/python3.10/site-packages/statsmodels/tsa/base/tsa_model.py:473: ValueWarning: A date index has been provided, but it has no associated frequency information and so will be ignored when e.g. forecasting.\n",
      "  self._init_dates(dates, freq)\n",
      "/Users/surya/anaconda3/envs/Tf-metal/lib/python3.10/site-packages/statsmodels/tsa/base/tsa_model.py:473: ValueWarning: A date index has been provided, but it has no associated frequency information and so will be ignored when e.g. forecasting.\n",
      "  self._init_dates(dates, freq)\n",
      "/Users/surya/anaconda3/envs/Tf-metal/lib/python3.10/site-packages/statsmodels/tsa/statespace/sarimax.py:966: UserWarning: Non-stationary starting autoregressive parameters found. Using zeros as starting parameters.\n",
      "  warn('Non-stationary starting autoregressive parameters'\n",
      "/Users/surya/anaconda3/envs/Tf-metal/lib/python3.10/site-packages/statsmodels/tsa/statespace/sarimax.py:978: UserWarning: Non-invertible starting MA parameters found. Using zeros as starting parameters.\n",
      "  warn('Non-invertible starting MA parameters found.'\n"
     ]
    }
   ],
   "source": [
    "best_model = ARIMA(ts, order=best_order)\n",
    "results = best_model.fit()\n",
    "print(results.summary())"
   ]
  },
  {
   "cell_type": "code",
   "execution_count": 20,
   "id": "12e8c74ba4d0ba7f",
   "metadata": {
    "collapsed": false,
    "ExecuteTime": {
     "end_time": "2024-10-11T06:47:40.828376Z",
     "start_time": "2024-10-11T06:47:40.557185Z"
    }
   },
   "outputs": [
    {
     "data": {
      "text/plain": "<Figure size 1200x400 with 2 Axes>",
      "image/png": "[encoded data removed]"
     },
     "metadata": {},
     "output_type": "display_data"
    }
   ],
   "source": [
    "residuals = pd.DataFrame(results.resid)\n",
    "fig, ax = plt.subplots(1,2, figsize=(12,4))\n",
    "residuals.plot(title=\"Residuals\", ax=ax[0])\n",
    "residuals.plot(kind='kde', title='Density', ax=ax[1])\n",
    "plt.tight_layout()\n",
    "plt.show()\n"
   ]
  },
  {
   "cell_type": "code",
   "execution_count": 21,
   "id": "d65dbf90d1f371bc",
   "metadata": {
    "collapsed": false,
    "ExecuteTime": {
     "end_time": "2024-10-11T06:47:42.639745Z",
     "start_time": "2024-10-11T06:47:42.622466Z"
    }
   },
   "outputs": [
    {
     "name": "stdout",
     "output_type": "stream",
     "text": [
      "5-day forecast:\n",
      "1511    234.653225\n",
      "1512    235.003423\n",
      "1513    234.908779\n",
      "1514    234.940884\n",
      "1515    234.933251\n",
      "Name: predicted_mean, dtype: float64\n"
     ]
    },
    {
     "name": "stderr",
     "output_type": "stream",
     "text": [
      "/Users/surya/anaconda3/envs/Tf-metal/lib/python3.10/site-packages/statsmodels/tsa/base/tsa_model.py:836: ValueWarning: No supported index is available. Prediction results will be given with an integer index beginning at `start`.\n",
      "  return get_prediction_index(\n",
      "/Users/surya/anaconda3/envs/Tf-metal/lib/python3.10/site-packages/statsmodels/tsa/base/tsa_model.py:836: FutureWarning: No supported index is available. In the next version, calling this method in a model without a supported index will result in an exception.\n",
      "  return get_prediction_index(\n"
     ]
    }
   ],
   "source": [
    "forecast = results.forecast(steps=5)\n",
    "print(\"5-day forecast:\")\n",
    "print(forecast)\n"
   ]
  },
  {
   "cell_type": "code",
   "execution_count": null,
   "outputs": [],
   "source": [],
   "metadata": {
    "collapsed": false
   },
   "id": "e425e63401bd152d"
  }
 ],
 "metadata": {
  "kernelspec": {
   "display_name": "Python 3 (ipykernel)",
   "language": "python",
   "name": "python3"
  },
  "language_info": {
   "codemirror_mode": {
    "name": "ipython",
    "version": 3
   },
   "file_extension": ".py",
   "mimetype": "text/x-python",
   "name": "python",
   "nbconvert_exporter": "python",
   "pygments_lexer": "ipython3",
   "version": "3.10.13"
  }
 },
 "nbformat": 4,
 "nbformat_minor": 5
}
